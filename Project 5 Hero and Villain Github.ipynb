{
 "cells": [
  {
   "cell_type": "markdown",
   "metadata": {
    "colab_type": "text",
    "id": "twl62z5vlntt"
   },
   "source": [
    "# Create binary analyst of heroes and villains\n"
   ]
  },
  {
   "cell_type": "code",
   "execution_count": 1,
   "metadata": {
    "colab": {
     "base_uri": "https://localhost:8080/",
     "height": 97
    },
    "colab_type": "code",
    "executionInfo": {
     "elapsed": 1461,
     "status": "ok",
     "timestamp": 1585191185203,
     "user": {
      "displayName": "Youman Pang",
      "photoUrl": "",
      "userId": "18046771941214860022"
     },
     "user_tz": 240
    },
    "id": "LyPChEa6fwhT",
    "outputId": "91374af9-e803-4851-d2d3-f26c949949f5"
   },
   "outputs": [
    {
     "name": "stderr",
     "output_type": "stream",
     "text": [
      "Using TensorFlow backend.\n"
     ]
    },
    {
     "data": {
      "text/html": [
       "<p style=\"color: red;\">\n",
       "The default version of TensorFlow in Colab will switch to TensorFlow 2.x on the 27th of March, 2020.<br>\n",
       "We recommend you <a href=\"https://www.tensorflow.org/guide/migrate\" target=\"_blank\">upgrade</a> now\n",
       "or ensure your notebook will continue to use TensorFlow 1.x via the <code>%tensorflow_version 1.x</code> magic:\n",
       "<a href=\"https://colab.research.google.com/notebooks/tensorflow_version.ipynb\" target=\"_blank\">more info</a>.</p>\n"
      ],
      "text/plain": [
       "<IPython.core.display.HTML object>"
      ]
     },
     "metadata": {
      "tags": []
     },
     "output_type": "display_data"
    },
    {
     "data": {
      "text/plain": [
       "'2.2.5'"
      ]
     },
     "execution_count": 1,
     "metadata": {
      "tags": []
     },
     "output_type": "execute_result"
    }
   ],
   "source": [
    "import keras\n",
    "keras.__version__"
   ]
  },
  {
   "cell_type": "code",
   "execution_count": 0,
   "metadata": {
    "colab": {},
    "colab_type": "code",
    "id": "fA_adx2fJkKY"
   },
   "outputs": [],
   "source": [
    "\n",
    "import os\n",
    "os.environ['TF_CPP_MIN_LOG_LEVEL'] = '3'\n",
    "import tensorflow as tf\n",
    "tf.compat.v1.logging.set_verbosity(tf.compat.v1.logging.ERROR)\n",
    "\n",
    "from keras.applications import VGG16\n",
    "conv_base = VGG16(weights=\"imagenet\",\n",
    "                  include_top=False,\n",
    "                  input_shape=(150, 150, 3))\n",
    "\n"
   ]
  },
  {
   "cell_type": "code",
   "execution_count": 3,
   "metadata": {
    "colab": {
     "base_uri": "https://localhost:8080/",
     "height": 799
    },
    "colab_type": "code",
    "executionInfo": {
     "elapsed": 271,
     "status": "ok",
     "timestamp": 1585191191446,
     "user": {
      "displayName": "Youman Pang",
      "photoUrl": "",
      "userId": "18046771941214860022"
     },
     "user_tz": 240
    },
    "id": "IL2CT2rMJkTu",
    "outputId": "e9c37cce-040d-4621-b36d-70c7160d1b82"
   },
   "outputs": [
    {
     "name": "stdout",
     "output_type": "stream",
     "text": [
      "Model: \"vgg16\"\n",
      "_________________________________________________________________\n",
      "Layer (type)                 Output Shape              Param #   \n",
      "=================================================================\n",
      "input_1 (InputLayer)         (None, 150, 150, 3)       0         \n",
      "_________________________________________________________________\n",
      "block1_conv1 (Conv2D)        (None, 150, 150, 64)      1792      \n",
      "_________________________________________________________________\n",
      "block1_conv2 (Conv2D)        (None, 150, 150, 64)      36928     \n",
      "_________________________________________________________________\n",
      "block1_pool (MaxPooling2D)   (None, 75, 75, 64)        0         \n",
      "_________________________________________________________________\n",
      "block2_conv1 (Conv2D)        (None, 75, 75, 128)       73856     \n",
      "_________________________________________________________________\n",
      "block2_conv2 (Conv2D)        (None, 75, 75, 128)       147584    \n",
      "_________________________________________________________________\n",
      "block2_pool (MaxPooling2D)   (None, 37, 37, 128)       0         \n",
      "_________________________________________________________________\n",
      "block3_conv1 (Conv2D)        (None, 37, 37, 256)       295168    \n",
      "_________________________________________________________________\n",
      "block3_conv2 (Conv2D)        (None, 37, 37, 256)       590080    \n",
      "_________________________________________________________________\n",
      "block3_conv3 (Conv2D)        (None, 37, 37, 256)       590080    \n",
      "_________________________________________________________________\n",
      "block3_pool (MaxPooling2D)   (None, 18, 18, 256)       0         \n",
      "_________________________________________________________________\n",
      "block4_conv1 (Conv2D)        (None, 18, 18, 512)       1180160   \n",
      "_________________________________________________________________\n",
      "block4_conv2 (Conv2D)        (None, 18, 18, 512)       2359808   \n",
      "_________________________________________________________________\n",
      "block4_conv3 (Conv2D)        (None, 18, 18, 512)       2359808   \n",
      "_________________________________________________________________\n",
      "block4_pool (MaxPooling2D)   (None, 9, 9, 512)         0         \n",
      "_________________________________________________________________\n",
      "block5_conv1 (Conv2D)        (None, 9, 9, 512)         2359808   \n",
      "_________________________________________________________________\n",
      "block5_conv2 (Conv2D)        (None, 9, 9, 512)         2359808   \n",
      "_________________________________________________________________\n",
      "block5_conv3 (Conv2D)        (None, 9, 9, 512)         2359808   \n",
      "_________________________________________________________________\n",
      "block5_pool (MaxPooling2D)   (None, 4, 4, 512)         0         \n",
      "=================================================================\n",
      "Total params: 14,714,688\n",
      "Trainable params: 14,714,688\n",
      "Non-trainable params: 0\n",
      "_________________________________________________________________\n"
     ]
    }
   ],
   "source": [
    "conv_base.summary()"
   ]
  },
  {
   "cell_type": "code",
   "execution_count": 0,
   "metadata": {
    "colab": {},
    "colab_type": "code",
    "id": "UGzseKg0I8LL"
   },
   "outputs": [],
   "source": [
    "import os\n",
    "import numpy as np\n",
    "from keras.preprocessing.image import ImageDataGenerator\n",
    "\n",
    "base_dir = \"/content/drive/My Drive/Python_Data/Heroes_n_villains/\"\n",
    "\n",
    "train_dir = os.path.join(base_dir, 'train')\n",
    "validation_dir = os.path.join(base_dir, 'validation')\n",
    "test_dir = os.path.join(base_dir, 'test')"
   ]
  },
  {
   "cell_type": "code",
   "execution_count": 5,
   "metadata": {
    "colab": {
     "base_uri": "https://localhost:8080/",
     "height": 68
    },
    "colab_type": "code",
    "executionInfo": {
     "elapsed": 1003090,
     "status": "ok",
     "timestamp": 1585192206405,
     "user": {
      "displayName": "Youman Pang",
      "photoUrl": "",
      "userId": "18046771941214860022"
     },
     "user_tz": 240
    },
    "id": "hT_LeA6jNPSx",
    "outputId": "cb02741a-bb0b-45f0-8dbf-958c5058e195"
   },
   "outputs": [
    {
     "name": "stdout",
     "output_type": "stream",
     "text": [
      "Found 2000 images belonging to 2 classes.\n",
      "Found 1000 images belonging to 2 classes.\n",
      "Found 1000 images belonging to 2 classes.\n"
     ]
    }
   ],
   "source": [
    "datagen = ImageDataGenerator(rescale=1./255)\n",
    "batch_size = 20\n",
    "\n",
    "def extract_features(directory, sample_count):\n",
    "    features = np.zeros(shape=(sample_count, 4, 4, 512))\n",
    "    labels = np.zeros(shape=(sample_count))\n",
    "    generator = datagen.flow_from_directory(\n",
    "        directory,\n",
    "        target_size=(150, 150),\n",
    "        batch_size=batch_size,\n",
    "        class_mode='binary')\n",
    "    i = 0\n",
    "    for inputs_batch, labels_batch in generator:\n",
    "        features_batch = conv_base.predict(inputs_batch)\n",
    "        features[i * batch_size : (i + 1) * batch_size] = features_batch\n",
    "        labels[i * batch_size : (i + 1) * batch_size] = labels_batch\n",
    "        i += 1\n",
    "        if i * batch_size >= sample_count:\n",
    "            # Note that since generators yield data indefinitely in a loop,\n",
    "            # we must `break` after every image has been seen once.\n",
    "            break\n",
    "    return features, labels\n",
    "\n",
    "train_features, train_labels = extract_features(train_dir, 2000)\n",
    "validation_features, validation_labels = extract_features(validation_dir, 1000)\n",
    "test_features, test_labels = extract_features(test_dir, 1000)"
   ]
  },
  {
   "cell_type": "code",
   "execution_count": 0,
   "metadata": {
    "colab": {},
    "colab_type": "code",
    "id": "M3YgctqmLk2Z"
   },
   "outputs": [],
   "source": [
    "\n",
    "train_features = np.reshape(train_features, (2000, 4 * 4 * 512))\n",
    "validation_features = np.reshape(validation_features, (1000, 4 * 4 * 512))\n",
    "test_features = np.reshape(test_features, (1000, 4 * 4 * 512))\n",
    "\n"
   ]
  },
  {
   "cell_type": "code",
   "execution_count": 0,
   "metadata": {
    "colab": {
     "base_uri": "https://localhost:8080/",
     "height": 34
    },
    "colab_type": "code",
    "executionInfo": {
     "elapsed": 1410,
     "status": "ok",
     "timestamp": 1584921673353,
     "user": {
      "displayName": "Youman Pang",
      "photoUrl": "",
      "userId": "18046771941214860022"
     },
     "user_tz": 240
    },
    "id": "5_ZbW0kkjR1J",
    "outputId": "f6e10762-018f-4d5f-a953-b4a92e74f1ee"
   },
   "outputs": [
    {
     "name": "stdout",
     "output_type": "stream",
     "text": [
      "[0. 1. 1. 1. 1. 0. 0. 1. 0. 1.]\n"
     ]
    }
   ],
   "source": [
    "print(train_labels[0:10])"
   ]
  },
  {
   "cell_type": "code",
   "execution_count": 0,
   "metadata": {
    "colab": {
     "base_uri": "https://localhost:8080/",
     "height": 34
    },
    "colab_type": "code",
    "executionInfo": {
     "elapsed": 1435,
     "status": "ok",
     "timestamp": 1584921690415,
     "user": {
      "displayName": "Youman Pang",
      "photoUrl": "",
      "userId": "18046771941214860022"
     },
     "user_tz": 240
    },
    "id": "0Kofjj03sY8L",
    "outputId": "16ce9e9d-1493-477e-b66f-2c4953e7f22d"
   },
   "outputs": [
    {
     "name": "stdout",
     "output_type": "stream",
     "text": [
      "[1. 1. 0. 1. 1. 1. 0. 0. 0. 0.]\n"
     ]
    }
   ],
   "source": [
    "print(validation_labels[0:10])"
   ]
  },
  {
   "cell_type": "code",
   "execution_count": 0,
   "metadata": {
    "colab": {
     "base_uri": "https://localhost:8080/",
     "height": 34
    },
    "colab_type": "code",
    "executionInfo": {
     "elapsed": 466,
     "status": "ok",
     "timestamp": 1584885838711,
     "user": {
      "displayName": "Youman Pang",
      "photoUrl": "",
      "userId": "18046771941214860022"
     },
     "user_tz": 240
    },
    "id": "qnAMmJ5ajnwW",
    "outputId": "f1d00e26-9a3c-40f3-ebce-3b6fa9bc13d4"
   },
   "outputs": [
    {
     "data": {
      "text/plain": [
       "(2000,)"
      ]
     },
     "execution_count": 10,
     "metadata": {
      "tags": []
     },
     "output_type": "execute_result"
    }
   ],
   "source": [
    "train_labels.shape"
   ]
  },
  {
   "cell_type": "markdown",
   "metadata": {
    "colab_type": "text",
    "id": "2GsH6JAO_Bmp"
   },
   "source": [
    "**Run the ImageData Generator on the SAMPLES**\n",
    "\n"
   ]
  },
  {
   "cell_type": "code",
   "execution_count": 11,
   "metadata": {
    "colab": {
     "base_uri": "https://localhost:8080/",
     "height": 34
    },
    "colab_type": "code",
    "executionInfo": {
     "elapsed": 346,
     "status": "ok",
     "timestamp": 1585191098929,
     "user": {
      "displayName": "Youman Pang",
      "photoUrl": "",
      "userId": "18046771941214860022"
     },
     "user_tz": 240
    },
    "id": "G077wwWd9MU3",
    "outputId": "9561dc83-465e-494e-8aa8-1e0d4024a43d"
   },
   "outputs": [
    {
     "name": "stdout",
     "output_type": "stream",
     "text": [
      "Found 1 images belonging to 1 classes.\n"
     ]
    }
   ],
   "source": [
    "import os\n",
    "import numpy as np\n",
    "from keras.preprocessing.image import ImageDataGenerator\n",
    "\n",
    "base_dir = \"/content/drive/My Drive/Python_Data/Heroes_n_villains/\"\n",
    "sample_dir = os.path.join(base_dir, \"batman\")\n",
    "\n",
    "datagen = ImageDataGenerator(rescale=1./255)\n",
    "batch_size = 20\n",
    "def extract_features(directory, sample_count):\n",
    "    features = np.zeros(shape=(sample_count, 4, 4, 512))\n",
    "    generator = datagen.flow_from_directory(\n",
    "        directory,\n",
    "        target_size=(150, 150),\n",
    "        batch_size=batch_size,\n",
    "        class_mode= None)  # changed to none\n",
    "    i = 0\n",
    "    for inputs_batch in generator:  # removed labels_batch\n",
    "        features_batch = conv_base.predict(inputs_batch)\n",
    "        features[i * batch_size : (i + 1) * batch_size] = features_batch\n",
    "        i += 1\n",
    "        if i * batch_size >= sample_count:\n",
    "            # Note that since generators yield data indefinitely in a loop,\n",
    "            # we must `break` after every image has been seen once.\n",
    "            break\n",
    "    return features # removed labels\n",
    "sample_features = extract_features(sample_dir, 1)\n",
    "\n",
    "sample_features = np.reshape(sample_features, (1, 4 * 4 * 512))"
   ]
  },
  {
   "cell_type": "code",
   "execution_count": 12,
   "metadata": {
    "colab": {
     "base_uri": "https://localhost:8080/",
     "height": 1000
    },
    "colab_type": "code",
    "executionInfo": {
     "elapsed": 16030,
     "status": "ok",
     "timestamp": 1585191119122,
     "user": {
      "displayName": "Youman Pang",
      "photoUrl": "",
      "userId": "18046771941214860022"
     },
     "user_tz": 240
    },
    "id": "rIsWjGpqXbxU",
    "outputId": "14da10ce-db14-445b-d686-df3065d05752"
   },
   "outputs": [
    {
     "name": "stdout",
     "output_type": "stream",
     "text": [
      "Train on 2000 samples, validate on 1000 samples\n",
      "Epoch 1/30\n",
      "2000/2000 [==============================] - 1s 440us/step - loss: 0.7418 - acc: 0.5320 - val_loss: 0.6377 - val_acc: 0.6370\n",
      "Epoch 2/30\n",
      "2000/2000 [==============================] - 0s 245us/step - loss: 0.6656 - acc: 0.6050 - val_loss: 0.6222 - val_acc: 0.6540\n",
      "Epoch 3/30\n",
      "2000/2000 [==============================] - 0s 245us/step - loss: 0.6158 - acc: 0.6555 - val_loss: 0.6081 - val_acc: 0.6770\n",
      "Epoch 4/30\n",
      "2000/2000 [==============================] - 1s 252us/step - loss: 0.5735 - acc: 0.7060 - val_loss: 0.6024 - val_acc: 0.6850\n",
      "Epoch 5/30\n",
      "2000/2000 [==============================] - 0s 244us/step - loss: 0.5574 - acc: 0.7215 - val_loss: 0.6030 - val_acc: 0.6780\n",
      "Epoch 6/30\n",
      "2000/2000 [==============================] - 0s 242us/step - loss: 0.5397 - acc: 0.7350 - val_loss: 0.5908 - val_acc: 0.6980\n",
      "Epoch 7/30\n",
      "2000/2000 [==============================] - 0s 246us/step - loss: 0.5215 - acc: 0.7480 - val_loss: 0.5862 - val_acc: 0.6920\n",
      "Epoch 8/30\n",
      "2000/2000 [==============================] - 1s 261us/step - loss: 0.4871 - acc: 0.7830 - val_loss: 0.5962 - val_acc: 0.6950\n",
      "Epoch 9/30\n",
      "2000/2000 [==============================] - 1s 287us/step - loss: 0.4829 - acc: 0.7815 - val_loss: 0.5806 - val_acc: 0.6920\n",
      "Epoch 10/30\n",
      "2000/2000 [==============================] - 1s 264us/step - loss: 0.4659 - acc: 0.7755 - val_loss: 0.5780 - val_acc: 0.6970\n",
      "Epoch 11/30\n",
      "2000/2000 [==============================] - 1s 256us/step - loss: 0.4512 - acc: 0.7900 - val_loss: 0.5761 - val_acc: 0.7120\n",
      "Epoch 12/30\n",
      "2000/2000 [==============================] - 1s 267us/step - loss: 0.4297 - acc: 0.8235 - val_loss: 0.5751 - val_acc: 0.7050\n",
      "Epoch 13/30\n",
      "2000/2000 [==============================] - 0s 245us/step - loss: 0.4174 - acc: 0.8285 - val_loss: 0.5747 - val_acc: 0.7130\n",
      "Epoch 14/30\n",
      "2000/2000 [==============================] - 0s 250us/step - loss: 0.4076 - acc: 0.8320 - val_loss: 0.5717 - val_acc: 0.7140\n",
      "Epoch 15/30\n",
      "2000/2000 [==============================] - 0s 247us/step - loss: 0.3960 - acc: 0.8335 - val_loss: 0.5684 - val_acc: 0.7130\n",
      "Epoch 16/30\n",
      "2000/2000 [==============================] - 1s 258us/step - loss: 0.3810 - acc: 0.8550 - val_loss: 0.5725 - val_acc: 0.7140\n",
      "Epoch 17/30\n",
      "2000/2000 [==============================] - 0s 241us/step - loss: 0.3717 - acc: 0.8510 - val_loss: 0.5912 - val_acc: 0.6990\n",
      "Epoch 18/30\n",
      "2000/2000 [==============================] - 1s 253us/step - loss: 0.3663 - acc: 0.8615 - val_loss: 0.5654 - val_acc: 0.7210\n",
      "Epoch 19/30\n",
      "2000/2000 [==============================] - 0s 248us/step - loss: 0.3540 - acc: 0.8685 - val_loss: 0.5679 - val_acc: 0.7130\n",
      "Epoch 20/30\n",
      "2000/2000 [==============================] - 0s 248us/step - loss: 0.3445 - acc: 0.8810 - val_loss: 0.5696 - val_acc: 0.7160\n",
      "Epoch 21/30\n",
      "2000/2000 [==============================] - 1s 256us/step - loss: 0.3232 - acc: 0.8900 - val_loss: 0.5663 - val_acc: 0.7220\n",
      "Epoch 22/30\n",
      "2000/2000 [==============================] - 1s 251us/step - loss: 0.3162 - acc: 0.8850 - val_loss: 0.5680 - val_acc: 0.7170\n",
      "Epoch 23/30\n",
      "2000/2000 [==============================] - 0s 234us/step - loss: 0.3117 - acc: 0.8890 - val_loss: 0.5670 - val_acc: 0.7190\n",
      "Epoch 24/30\n",
      "2000/2000 [==============================] - 0s 239us/step - loss: 0.3035 - acc: 0.8970 - val_loss: 0.5665 - val_acc: 0.7200\n",
      "Epoch 25/30\n",
      "2000/2000 [==============================] - 1s 256us/step - loss: 0.2969 - acc: 0.8995 - val_loss: 0.5700 - val_acc: 0.7260\n",
      "Epoch 26/30\n",
      "2000/2000 [==============================] - 1s 267us/step - loss: 0.2877 - acc: 0.9100 - val_loss: 0.5702 - val_acc: 0.7150\n",
      "Epoch 27/30\n",
      "2000/2000 [==============================] - 0s 245us/step - loss: 0.2774 - acc: 0.9140 - val_loss: 0.5673 - val_acc: 0.7180\n",
      "Epoch 28/30\n",
      "2000/2000 [==============================] - 1s 255us/step - loss: 0.2681 - acc: 0.9180 - val_loss: 0.5795 - val_acc: 0.7220\n",
      "Epoch 29/30\n",
      "2000/2000 [==============================] - 1s 261us/step - loss: 0.2601 - acc: 0.9195 - val_loss: 0.5733 - val_acc: 0.7240\n",
      "Epoch 30/30\n",
      "2000/2000 [==============================] - 1s 255us/step - loss: 0.2569 - acc: 0.9255 - val_loss: 0.5723 - val_acc: 0.7180\n"
     ]
    }
   ],
   "source": [
    "from keras import models\n",
    "from keras import layers\n",
    "from keras import optimizers\n",
    "\n",
    "model = models.Sequential()\n",
    "model.add(layers.Dense(256, activation='relu', input_dim=4 * 4 * 512))\n",
    "model.add(layers.Dropout(0.5))\n",
    "model.add(layers.Dense(1, activation='sigmoid'))\n",
    "\n",
    "model.compile(optimizer=optimizers.RMSprop(lr=2e-5),\n",
    "              loss='binary_crossentropy',\n",
    "              metrics=['acc'])\n",
    "\n",
    "history = model.fit(train_features, train_labels,\n",
    "                    epochs=30,\n",
    "                    batch_size=20,\n",
    "                    validation_data=(validation_features, validation_labels))"
   ]
  },
  {
   "cell_type": "code",
   "execution_count": 8,
   "metadata": {
    "colab": {
     "base_uri": "https://localhost:8080/",
     "height": 51
    },
    "colab_type": "code",
    "executionInfo": {
     "elapsed": 327,
     "status": "ok",
     "timestamp": 1585191021089,
     "user": {
      "displayName": "Youman Pang",
      "photoUrl": "",
      "userId": "18046771941214860022"
     },
     "user_tz": 240
    },
    "id": "TE9GgMxr8za1",
    "outputId": "c9221aad-1e86-44cf-a7c6-e478c2bc1415"
   },
   "outputs": [
    {
     "name": "stdout",
     "output_type": "stream",
     "text": [
      "1 : villain\n",
      "[[0.66988754]]\n"
     ]
    }
   ],
   "source": [
    "# Test the sample image\n",
    "# from keras.applications.imagenet_utils import decode_predictions\n",
    "\n",
    "hv_list = [\"hero\", \"villain\"]\n",
    "\n",
    "\n",
    "\n",
    "# pred_list = []\n",
    "out = model.predict(sample_features)\n",
    "for i in out:\n",
    "  y_pred = int(i>.5)\n",
    "  # pred_list.append(y_pred)\n",
    "  print(y_pred, \":\", hv_list[y_pred])\n",
    "  print(out)\n",
    "\n",
    "# print(pred_list)\n"
   ]
  },
  {
   "cell_type": "markdown",
   "metadata": {
    "colab_type": "text",
    "id": "3pXTHMJK83Zi"
   },
   "source": [
    "Create graphs\n"
   ]
  },
  {
   "cell_type": "code",
   "execution_count": 13,
   "metadata": {
    "colab": {
     "base_uri": "https://localhost:8080/",
     "height": 545
    },
    "colab_type": "code",
    "executionInfo": {
     "elapsed": 541,
     "status": "ok",
     "timestamp": 1585191132844,
     "user": {
      "displayName": "Youman Pang",
      "photoUrl": "",
      "userId": "18046771941214860022"
     },
     "user_tz": 240
    },
    "id": "B9UaVkG6Xb0p",
    "outputId": "63647e6d-8e87-4bc4-c6bb-a208566d6a83"
   },
   "outputs": [
    {
     "data": {
      "image/png": "[encoded data removed]",
      "text/plain": [
       "<Figure size 432x288 with 1 Axes>"
      ]
     },
     "metadata": {
      "tags": []
     },
     "output_type": "display_data"
    },
    {
     "data": {
      "image/png": "[encoded data removed]",
      "text/plain": [
       "<Figure size 432x288 with 1 Axes>"
      ]
     },
     "metadata": {
      "tags": []
     },
     "output_type": "display_data"
    }
   ],
   "source": [
    "import matplotlib.pyplot as plt\n",
    "\n",
    "acc = history.history['acc']\n",
    "val_acc = history.history['val_acc']\n",
    "loss = history.history['loss']\n",
    "val_loss = history.history['val_loss']\n",
    "\n",
    "epochs = range(len(acc))\n",
    "\n",
    "plt.plot(epochs, acc, 'bo', label='Training acc')\n",
    "plt.plot(epochs, val_acc, 'b', label='Validation acc')\n",
    "plt.title('Training and validation accuracy')\n",
    "plt.legend()\n",
    "\n",
    "plt.figure()\n",
    "\n",
    "plt.plot(epochs, loss, 'bo', label='Training loss')\n",
    "plt.plot(epochs, val_loss, 'b', label='Validation loss')\n",
    "plt.title('Training and validation loss')\n",
    "plt.legend()\n",
    "\n",
    "plt.show()"
   ]
  },
  {
   "cell_type": "markdown",
   "metadata": {
    "colab_type": "text",
    "id": "N9pwmOkyDyFF"
   },
   "source": [
    "# **Confusion Matrix**"
   ]
  },
  {
   "cell_type": "code",
   "execution_count": 14,
   "metadata": {
    "colab": {
     "base_uri": "https://localhost:8080/",
     "height": 479
    },
    "colab_type": "code",
    "executionInfo": {
     "elapsed": 685,
     "status": "ok",
     "timestamp": 1585191141006,
     "user": {
      "displayName": "Youman Pang",
      "photoUrl": "",
      "userId": "18046771941214860022"
     },
     "user_tz": 240
    },
    "id": "bGYUGuUEDvjb",
    "outputId": "8909ba2a-182a-437a-dc5f-2c7d8c835161"
   },
   "outputs": [
    {
     "data": {
      "image/png": "[encoded data removed]",
      "text/plain": [
       "<Figure size 432x432 with 1 Axes>"
      ]
     },
     "metadata": {
      "tags": []
     },
     "output_type": "display_data"
    }
   ],
   "source": [
    "#MD's code\n",
    "from mlxtend.plotting import plot_confusion_matrix\n",
    "from mlxtend.evaluate import confusion_matrix\n",
    "import matplotlib.pyplot as plt\n",
    "import seaborn as sns\n",
    "\n",
    "\n",
    "hv_list = [\"hero\", \"villain\"]\n",
    "\n",
    "# Create the predictions from validation_features without labels\n",
    "pred_list = []\n",
    "out = model.predict(validation_features)\n",
    "for i in out:\n",
    "  y_pred = int(i>.5)\n",
    "  pred_list.append(y_pred)\n",
    "  # print(y_pred, \":\", hv_list[y_pred])\n",
    "\n",
    "# use the same Validation images and for every hero image = 0, villain = 1\n",
    "y_target =    validation_labels\n",
    "# run all the Validation images thru the predictions\n",
    "y_predicted = pred_list\n",
    "# cm = confusion_matrix(##test_labels_argmax, y_pred, binary=False)\n",
    "\n",
    "cm = confusion_matrix(y_target=y_target, \n",
    "                      y_predicted=y_predicted)\n",
    "\n",
    "fig, ax = plot_confusion_matrix(conf_mat=cm)\n",
    "fig.set_size_inches(6, 6)\n",
    "sns.set(font_scale=5.0)\n",
    "plt.title(\"Base Model CNN Confusion Matrix\", pad = -5, fontsize = 20)\n",
    "plt.xlabel(\"Predicted Alignment\", fontsize = 18, labelpad = 18)\n",
    "plt.ylabel(\"Actual Alignment\", fontsize = 18, labelpad = 18)\n",
    "plt.xticks(np.arange(0,2,1), hv_list, rotation=45, fontsize = 18, )\n",
    "plt.tick_params(axis=\"x\", length=5)\n",
    "plt.yticks(np.arange(0,2,1), hv_list, fontsize = 18)\n",
    "plt.tick_params(axis=\"y\", length=5)\n",
    "plt.show()"
   ]
  },
  {
   "cell_type": "code",
   "execution_count": 0,
   "metadata": {
    "colab": {
     "base_uri": "https://localhost:8080/",
     "height": 51
    },
    "colab_type": "code",
    "executionInfo": {
     "elapsed": 511,
     "status": "ok",
     "timestamp": 1585118254990,
     "user": {
      "displayName": "Youman Pang",
      "photoUrl": "",
      "userId": "18046771941214860022"
     },
     "user_tz": 240
    },
    "id": "14B-G-jADvp9",
    "outputId": "21a4856a-555f-4cdd-89e5-f526304ee7d5"
   },
   "outputs": [
    {
     "name": "stdout",
     "output_type": "stream",
     "text": [
      "1000/1000 [==============================] - 0s 104us/step\n",
      "Validation accuracy: 0.7250000035762787\n"
     ]
    }
   ],
   "source": [
    "loss, accuracy = model.evaluate(validation_features, validation_labels, batch_size=20, verbose=1);\n",
    "print(\"Validation accuracy:\", accuracy)"
   ]
  }
 ],
 "metadata": {
  "accelerator": "GPU",
  "colab": {
   "authorship_tag": "ABX9TyPvaAENd7N2GC52avuFg1WW",
   "collapsed_sections": [],
   "mount_file_id": "1GcwC2ThDBD5iCMq7PpRgt4vkxAz_ANl5",
   "name": "Project 5 Hero and Villain.ipynb",
   "provenance": []
  },
  "kernelspec": {
   "display_name": "Python 3",
   "language": "python",
   "name": "python3"
  },
  "language_info": {
   "codemirror_mode": {
    "name": "ipython",
    "version": 3
   },
   "file_extension": ".py",
   "mimetype": "text/x-python",
   "name": "python",
   "nbconvert_exporter": "python",
   "pygments_lexer": "ipython3",
   "version": "3.7.4"
  },
  "toc": {
   "base_numbering": 1,
   "nav_menu": {},
   "number_sections": true,
   "sideBar": true,
   "skip_h1_title": false,
   "title_cell": "Table of Contents",
   "title_sidebar": "Contents",
   "toc_cell": false,
   "toc_position": {},
   "toc_section_display": true,
   "toc_window_display": false
  }
 },
 "nbformat": 4,
 "nbformat_minor": 1
}
